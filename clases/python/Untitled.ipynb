{
 "cells": [
  {
   "cell_type": "markdown",
   "id": "c75e7b3a-1a47-4c66-86c3-f8a31d5788f3",
   "metadata": {},
   "source": [
    "# Bucles\n"
   ]
  },
  {
   "cell_type": "code",
   "execution_count": 2,
   "id": "31f76fec-715e-4b99-963d-ccce4c2d1823",
   "metadata": {},
   "outputs": [
    {
     "name": "stdout",
     "output_type": "stream",
     "text": [
      "1\n",
      "2\n",
      "3\n",
      "4\n",
      "5\n",
      "6\n",
      "7\n",
      "8\n",
      "9\n"
     ]
    }
   ],
   "source": [
    "for i in range(1,10):\n",
    "    print(i)"
   ]
  },
  {
   "cell_type": "code",
   "execution_count": 5,
   "id": "2bb5b21d-b3ff-4a99-af0b-d4f38c531d3a",
   "metadata": {},
   "outputs": [
    {
     "name": "stdout",
     "output_type": "stream",
     "text": [
      "1\n",
      "3\n",
      "5\n",
      "7\n",
      "9\n",
      "11\n",
      "13\n",
      "15\n",
      "17\n",
      "19\n"
     ]
    }
   ],
   "source": [
    "for i in range(1,20,2):\n",
    "    print(i)"
   ]
  },
  {
   "cell_type": "markdown",
   "id": "c7bc96a4-9295-4d07-8a78-23b14da7ca22",
   "metadata": {},
   "source": [
    "### 1.Repetir mensaje"
   ]
  },
  {
   "cell_type": "code",
   "execution_count": 10,
   "id": "28d7bde7-abb9-41c3-b0f7-f6fc86dca5d7",
   "metadata": {},
   "outputs": [
    {
     "name": "stdin",
     "output_type": "stream",
     "text": [
      "Ingrese un mensaje:  asd\n",
      "Ingrese un numero 3\n"
     ]
    },
    {
     "name": "stdout",
     "output_type": "stream",
     "text": [
      "asd\n",
      "asd\n",
      "asd\n"
     ]
    }
   ],
   "source": [
    "msj = input(\"Ingrese un mensaje: \")\n",
    "n = int(input(\"Ingrese un numero\")) \n",
    "for i in range(n):\n",
    "    print(msj)"
   ]
  },
  {
   "cell_type": "markdown",
   "id": "44817467-e4b1-4bb0-823e-9db2965d52b4",
   "metadata": {},
   "source": [
    "### 2.Contar del 1 al 10"
   ]
  },
  {
   "cell_type": "code",
   "execution_count": 11,
   "id": "88c830f2-19c7-4f50-b811-25df9055f87b",
   "metadata": {},
   "outputs": [
    {
     "name": "stdout",
     "output_type": "stream",
     "text": [
      "1\n",
      "2\n",
      "3\n",
      "4\n",
      "5\n",
      "6\n",
      "7\n",
      "8\n",
      "9\n",
      "10\n"
     ]
    }
   ],
   "source": [
    "for i in range(1,11):\n",
    "    print(i)"
   ]
  },
  {
   "cell_type": "markdown",
   "id": "07ec268f-2223-4840-b92d-dce6eac7450c",
   "metadata": {},
   "source": [
    "### 3.Contar hacia atras"
   ]
  },
  {
   "cell_type": "code",
   "execution_count": 15,
   "id": "8d474896-7eab-4e56-bbbb-ac89247c5cf3",
   "metadata": {},
   "outputs": [
    {
     "name": "stdout",
     "output_type": "stream",
     "text": [
      "10\n",
      "9\n",
      "8\n",
      "7\n",
      "6\n",
      "5\n",
      "4\n",
      "3\n",
      "2\n",
      "1\n"
     ]
    }
   ],
   "source": [
    "for i in range(10,0,-1):\n",
    "    print(i)"
   ]
  },
  {
   "cell_type": "markdown",
   "id": "9423766d-76ad-419c-9453-0623c9285cdf",
   "metadata": {},
   "source": [
    "### 4. Suma de los primeros n numeros"
   ]
  },
  {
   "cell_type": "code",
   "execution_count": 38,
   "id": "b77140ae-1d2e-4f72-ac16-4b206a9c9e7f",
   "metadata": {},
   "outputs": [
    {
     "name": "stdin",
     "output_type": "stream",
     "text": [
      "Ingrese un numero:  1000\n"
     ]
    },
    {
     "name": "stdout",
     "output_type": "stream",
     "text": [
      "500500\n",
      "500500.0\n"
     ]
    }
   ],
   "source": [
    "suma =0\n",
    "n = int(input(\"Ingrese un numero: \"))\n",
    "for i in range(n+1):\n",
    "    suma+=i\n",
    "print(suma)\n",
    "\n",
    "#gaus\n",
    "\n",
    "cal = n*(n+1)/2\n",
    "print(cal)"
   ]
  },
  {
   "cell_type": "markdown",
   "id": "98bd5db7-cc03-466a-9f92-73c9f4606300",
   "metadata": {},
   "source": [
    "### 5. Tabla de multiplicar"
   ]
  },
  {
   "cell_type": "code",
   "execution_count": 40,
   "id": "e83c83a0-a907-4df9-908b-e2860ed3da7b",
   "metadata": {},
   "outputs": [
    {
     "name": "stdin",
     "output_type": "stream",
     "text": [
      "Ingrese un numero:  7\n"
     ]
    },
    {
     "name": "stdout",
     "output_type": "stream",
     "text": [
      "7\n",
      "14\n",
      "21\n",
      "28\n",
      "35\n",
      "42\n",
      "49\n",
      "56\n",
      "63\n",
      "70\n"
     ]
    }
   ],
   "source": [
    "n = int(input(\"Ingrese un numero: \"))\n",
    "\n",
    "for i in range(1,11):\n",
    "    print(n*i)"
   ]
  },
  {
   "cell_type": "markdown",
   "id": "ecf986fe-6341-4e3a-aab8-0af7d0fbc3e2",
   "metadata": {},
   "source": [
    "### 6.Numeros pares entre 1 y 100"
   ]
  },
  {
   "cell_type": "code",
   "execution_count": 44,
   "id": "8ae1756e-2ecb-482a-a98d-b738a0712d03",
   "metadata": {},
   "outputs": [
    {
     "name": "stdout",
     "output_type": "stream",
     "text": [
      "2\n",
      "4\n",
      "6\n",
      "8\n",
      "10\n",
      "12\n",
      "14\n",
      "16\n",
      "18\n",
      "20\n",
      "22\n",
      "24\n",
      "26\n",
      "28\n",
      "30\n",
      "32\n",
      "34\n",
      "36\n",
      "38\n",
      "40\n",
      "42\n",
      "44\n",
      "46\n",
      "48\n",
      "50\n",
      "52\n",
      "54\n",
      "56\n",
      "58\n",
      "60\n",
      "62\n",
      "64\n",
      "66\n",
      "68\n",
      "70\n",
      "72\n",
      "74\n",
      "76\n",
      "78\n",
      "80\n",
      "82\n",
      "84\n",
      "86\n",
      "88\n",
      "90\n",
      "92\n",
      "94\n",
      "96\n",
      "98\n",
      "100\n"
     ]
    }
   ],
   "source": [
    "for i in range(2, 101,2):\n",
    "    print(i)"
   ]
  },
  {
   "cell_type": "markdown",
   "id": "e8ebf319-3d18-41e2-8efa-73194abe8401",
   "metadata": {},
   "source": [
    "### 7.Lista de nombres"
   ]
  },
  {
   "cell_type": "code",
   "execution_count": 48,
   "id": "37a78913-6e5d-45c1-a0f6-86554f21ac21",
   "metadata": {},
   "outputs": [
    {
     "name": "stdin",
     "output_type": "stream",
     "text": [
      "Ingrese un numero:  3\n",
      "Ingrese el nombre:  Juan\n"
     ]
    },
    {
     "name": "stdout",
     "output_type": "stream",
     "text": [
      "1 . Juan\n"
     ]
    },
    {
     "name": "stdin",
     "output_type": "stream",
     "text": [
      "Ingrese el nombre:  Pedro\n"
     ]
    },
    {
     "name": "stdout",
     "output_type": "stream",
     "text": [
      "2 . Pedro\n"
     ]
    },
    {
     "name": "stdin",
     "output_type": "stream",
     "text": [
      "Ingrese el nombre:  Jose\n"
     ]
    },
    {
     "name": "stdout",
     "output_type": "stream",
     "text": [
      "3 . Jose\n"
     ]
    }
   ],
   "source": [
    "n = int(input(\"Ingrese un numero: \"))\n",
    "for i in range(n):\n",
    "    nombre = input(\"Ingrese el nombre: \")\n",
    "    print(i+1,\".\", nombre)"
   ]
  },
  {
   "cell_type": "markdown",
   "id": "d75f9985-d6c2-4419-a282-498ed55427ac",
   "metadata": {},
   "source": [
    "### 8.Sumar solo multiplos de 3"
   ]
  },
  {
   "cell_type": "code",
   "execution_count": 53,
   "id": "67d04216-ec1f-42c9-9c30-cae1d475a76c",
   "metadata": {},
   "outputs": [
    {
     "name": "stdin",
     "output_type": "stream",
     "text": [
      "Ingrese un numero:  12\n"
     ]
    },
    {
     "name": "stdout",
     "output_type": "stream",
     "text": [
      "3\n",
      "6\n",
      "9\n",
      "12\n"
     ]
    }
   ],
   "source": [
    "n = int(input(\"Ingrese un numero: \"))\n",
    "for i in range(3, n+1,3):\n",
    "    print(i)"
   ]
  },
  {
   "cell_type": "markdown",
   "id": "60512882-e009-45e9-98bb-3d4e1bcc735f",
   "metadata": {},
   "source": [
    "### 9.Contador de vocales"
   ]
  },
  {
   "cell_type": "code",
   "execution_count": 55,
   "id": "395631b7-2f5b-4af2-89ed-9496d899bc7e",
   "metadata": {},
   "outputs": [
    {
     "name": "stdin",
     "output_type": "stream",
     "text": [
      "Ingrese la palabra sadot\n"
     ]
    },
    {
     "name": "stdout",
     "output_type": "stream",
     "text": [
      "Total de vocales: 2\n"
     ]
    }
   ],
   "source": [
    "palabra = input(\"Ingrese la palabra\")\n",
    "vocales = \"aeiou\"\n",
    "contador = 0\n",
    "\n",
    "for caracter in palabra:\n",
    "    if caracter in vocales:\n",
    "        contador += 1\n",
    "\n",
    "print(\"Total de vocales:\", contador)"
   ]
  },
  {
   "cell_type": "markdown",
   "id": "449f408b-878c-47eb-9ffe-139bb5c89ceb",
   "metadata": {},
   "source": [
    "### 10.Serie factorial"
   ]
  },
  {
   "cell_type": "code",
   "execution_count": 88,
   "id": "08d761b0-f733-4001-a1d7-1d0a287a560b",
   "metadata": {},
   "outputs": [
    {
     "name": "stdin",
     "output_type": "stream",
     "text": [
      "Ingrese un numero:  5\n"
     ]
    },
    {
     "name": "stdout",
     "output_type": "stream",
     "text": [
      "5 ! 5x4x3x2x1 = 120\n"
     ]
    }
   ],
   "source": [
    "n = int(input(\"Ingrese un numero: \"))\n",
    "factorial = 1\n",
    "cadena =\"\"\n",
    "for i in range (n,0,-1):\n",
    "    factorial*=i\n",
    "    cadena +=str(i) + \"x\"\n",
    "\n",
    "cadena = cadena[:-1]\n",
    "print(n,\"!\",cadena,\"=\", factorial)"
   ]
  },
  {
   "cell_type": "markdown",
   "id": "2cc6fd2c-2155-4c51-8e53-19f4ec0b3214",
   "metadata": {},
   "source": [
    "##### "
   ]
  },
  {
   "cell_type": "code",
   "execution_count": null,
   "id": "3521ef1d-ef78-4ca4-be3d-95a05f0bc3c7",
   "metadata": {},
   "outputs": [],
   "source": []
  }
 ],
 "metadata": {
  "kernelspec": {
   "display_name": "Python 3 (ipykernel)",
   "language": "python",
   "name": "python3"
  },
  "language_info": {
   "codemirror_mode": {
    "name": "ipython",
    "version": 3
   },
   "file_extension": ".py",
   "mimetype": "text/x-python",
   "name": "python",
   "nbconvert_exporter": "python",
   "pygments_lexer": "ipython3",
   "version": "3.10.16"
  }
 },
 "nbformat": 4,
 "nbformat_minor": 5
}
