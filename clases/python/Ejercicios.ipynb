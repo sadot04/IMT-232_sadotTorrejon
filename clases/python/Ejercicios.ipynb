{
 "cells": [
  {
   "cell_type": "markdown",
   "id": "b9feb752-144c-4afe-a3fa-856d8ebf8422",
   "metadata": {},
   "source": [
    "Ejercicio 1\n"
   ]
  },
  {
   "cell_type": "code",
   "execution_count": 3,
   "id": "09ba0785-e45a-49a2-99e4-fb065425c6ec",
   "metadata": {},
   "outputs": [
    {
     "name": "stdin",
     "output_type": "stream",
     "text": [
      "Introduzca el primer numero 3\n",
      "Introduzca el segundo numero 4\n"
     ]
    },
    {
     "name": "stdout",
     "output_type": "stream",
     "text": [
      "La suma de 3 y 4 es 7\n"
     ]
    }
   ],
   "source": [
    "num1 = int(input(\"Introduzca el primer numero\"))\n",
    "num2 = int(input(\"Introduzca el segundo numero\"))\n",
    "print(f\"La suma de {num1} y {num2} es {num1+num2}\")"
   ]
  },
  {
   "cell_type": "markdown",
   "id": "85cfc9f0-f97c-4619-8a6d-7e35c1404c94",
   "metadata": {},
   "source": [
    "Ejercicio 2"
   ]
  },
  {
   "cell_type": "code",
   "execution_count": 5,
   "id": "0cbe8035-660f-4234-b563-35dd520bfa21",
   "metadata": {},
   "outputs": [
    {
     "name": "stdin",
     "output_type": "stream",
     "text": [
      "Introduzca los grados 6\n"
     ]
    },
    {
     "name": "stdout",
     "output_type": "stream",
     "text": [
      "42.8\n"
     ]
    }
   ],
   "source": [
    "grados = float(input(\"Introduzca los grados\"))\n",
    "print(f\"{grados * 9/5 +32}\")"
   ]
  },
  {
   "cell_type": "markdown",
   "id": "01690eac-359b-4265-a606-e6c05b47f30c",
   "metadata": {},
   "source": [
    "Ejercicio 3"
   ]
  },
  {
   "cell_type": "code",
   "execution_count": 8,
   "id": "c83d9ac9-251e-4be0-bf36-a60d148ab84b",
   "metadata": {},
   "outputs": [
    {
     "name": "stdin",
     "output_type": "stream",
     "text": [
      "Introduzca la base 3\n",
      "Introduzca la altura 4\n"
     ]
    },
    {
     "name": "stdout",
     "output_type": "stream",
     "text": [
      "El area es: 12\n"
     ]
    }
   ],
   "source": [
    "base = int(input(\"Introduzca la base\"))\n",
    "altura = int(input(\"Introduzca la altura\"))\n",
    "print(f\"El area es: {base*altura}\")"
   ]
  },
  {
   "cell_type": "markdown",
   "id": "ccb60dd2-4b2d-4c80-9acc-5c6be1b703b5",
   "metadata": {},
   "source": [
    "Ejercicio 4"
   ]
  },
  {
   "cell_type": "code",
   "execution_count": 11,
   "id": "588127b5-63ca-4f71-830b-393122735431",
   "metadata": {},
   "outputs": [
    {
     "name": "stdin",
     "output_type": "stream",
     "text": [
      "Introduzca su edad:  2\n"
     ]
    },
    {
     "name": "stdout",
     "output_type": "stream",
     "text": [
      "Es menor de edad\n"
     ]
    }
   ],
   "source": [
    "edad = int(input(\"Introduzca su edad: \"))\n",
    "if(edad > 18):\n",
    "    print(\"Es mayor de edad\")\n",
    "else:\n",
    "    print(\"Es menor de edad\")"
   ]
  },
  {
   "cell_type": "markdown",
   "id": "7160e37c-d86a-4cff-b1a2-ad7abdcf3fc8",
   "metadata": {},
   "source": [
    "Ejercicio 5"
   ]
  },
  {
   "cell_type": "code",
   "execution_count": 12,
   "id": "69cf0cb2-a056-422f-b37a-9ca951bd4ac6",
   "metadata": {},
   "outputs": [
    {
     "name": "stdin",
     "output_type": "stream",
     "text": [
      "Introduzca el primer numero 5\n",
      "Introduzca el segundo numero 5\n"
     ]
    },
    {
     "name": "stdout",
     "output_type": "stream",
     "text": [
      "La suma de 5 y 5 es 10\n",
      "La resta de 5 y 5 es 0\n",
      "La multiplicacion de 5 y 5 es 25\n",
      "La division de 5 y 5 es 1.0\n"
     ]
    }
   ],
   "source": [
    "num1 = int(input(\"Introduzca el primer numero\"))\n",
    "num2 = int(input(\"Introduzca el segundo numero\"))\n",
    "print(f\"La suma de {num1} y {num2} es {num1+num2}\")\n",
    "print(f\"La resta de {num1} y {num2} es {num1-num2}\")\n",
    "print(f\"La multiplicacion de {num1} y {num2} es {num1*num2}\")\n",
    "print(f\"La division de {num1} y {num2} es {num1/num2}\")"
   ]
  },
  {
   "cell_type": "code",
   "execution_count": null,
   "id": "e2e38186-0951-458c-8dcc-6ce9d7301f0d",
   "metadata": {},
   "outputs": [],
   "source": [
    "EJercicio 6"
   ]
  },
  {
   "cell_type": "code",
   "execution_count": 13,
   "id": "3c6a0df8-9a97-4443-a405-b3eff9a45ccb",
   "metadata": {},
   "outputs": [
    {
     "name": "stdin",
     "output_type": "stream",
     "text": [
      "Introduzca su nombre:  sadot\n",
      "Introduzca su edad:  20\n",
      "Introduzca su carrera:  sistemas\n"
     ]
    },
    {
     "name": "stdout",
     "output_type": "stream",
     "text": [
      "Hola sadot, tienes 20 años y estudias sistemas\n"
     ]
    }
   ],
   "source": [
    "nombre = input(\"Introduzca su nombre: \")\n",
    "edad = input(\"Introduzca su edad: \")\n",
    "carrera = input(\"Introduzca su carrera: \")\n",
    "print (f\"Hola {nombre}, tienes {edad} años y estudias {carrera}\")"
   ]
  },
  {
   "cell_type": "code",
   "execution_count": null,
   "id": "324a2df0-5a69-4978-b1db-0cd82aed27ec",
   "metadata": {},
   "outputs": [],
   "source": []
  }
 ],
 "metadata": {
  "kernelspec": {
   "display_name": "Python 3 (ipykernel)",
   "language": "python",
   "name": "python3"
  },
  "language_info": {
   "codemirror_mode": {
    "name": "ipython",
    "version": 3
   },
   "file_extension": ".py",
   "mimetype": "text/x-python",
   "name": "python",
   "nbconvert_exporter": "python",
   "pygments_lexer": "ipython3",
   "version": "3.10.16"
  }
 },
 "nbformat": 4,
 "nbformat_minor": 5
}
