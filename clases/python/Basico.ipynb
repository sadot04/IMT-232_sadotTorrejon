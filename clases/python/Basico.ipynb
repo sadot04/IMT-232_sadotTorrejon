{
 "cells": [
  {
   "cell_type": "code",
   "execution_count": 3,
   "id": "75eec7c6-7cd8-4636-aadd-e8bb76a4f5c8",
   "metadata": {},
   "outputs": [
    {
     "name": "stdout",
     "output_type": "stream",
     "text": [
      "Hola mundo\n"
     ]
    }
   ],
   "source": [
    "#primer comentario\n",
    "print(\"Hola mundo\")"
   ]
  },
  {
   "cell_type": "markdown",
   "id": "cccee4bf-defe-4654-8fe4-d97d82ef973b",
   "metadata": {},
   "source": [
    "# Variables\n"
   ]
  },
  {
   "cell_type": "code",
   "execution_count": 7,
   "id": "77a77d53-a6ed-4e63-9b64-28c9a691e4ad",
   "metadata": {},
   "outputs": [],
   "source": [
    "nombreVariable = 124 #int\n",
    "B=\"palabras\" # string\n",
    "PI=3.14   # float\n",
    "C='a'   # char\n",
    "D=2.234567890987654 # float"
   ]
  },
  {
   "cell_type": "code",
   "execution_count": 9,
   "id": "8495bd0d-e89a-4144-974c-7b33ab5d358d",
   "metadata": {},
   "outputs": [
    {
     "name": "stdout",
     "output_type": "stream",
     "text": [
      "<class 'int'>\n",
      "<class 'str'>\n",
      "<class 'float'>\n",
      "<class 'str'>\n",
      "<class 'float'>\n"
     ]
    }
   ],
   "source": [
    "print(type(nombreVariable))\n",
    "print(type(B))\n",
    "print(type(PI))\n",
    "print(type(C))\n",
    "print(type(D))"
   ]
  },
  {
   "cell_type": "code",
   "execution_count": 10,
   "id": "2500dc00-ae24-4e7a-84b4-a86b0fe19ad0",
   "metadata": {},
   "outputs": [
    {
     "name": "stdin",
     "output_type": "stream",
     "text": [
      "ingrese nombre sadot\n"
     ]
    },
    {
     "name": "stdout",
     "output_type": "stream",
     "text": [
      "hola, sadot\n"
     ]
    }
   ],
   "source": [
    "var = input(\"ingrese nombre\")\n",
    "print(f\"hola, {var}\")"
   ]
  },
  {
   "cell_type": "code",
   "execution_count": 11,
   "id": "22e82a76-4478-41f7-b1ad-7521e241dded",
   "metadata": {},
   "outputs": [
    {
     "name": "stdin",
     "output_type": "stream",
     "text": [
      "ingrese edad 10\n"
     ]
    },
    {
     "name": "stdout",
     "output_type": "stream",
     "text": [
      "10\n"
     ]
    }
   ],
   "source": [
    "edad = input(\"ingrese edad\")\n",
    "print(edad)"
   ]
  },
  {
   "cell_type": "code",
   "execution_count": 17,
   "id": "3a1b642b-5451-406f-9c9e-20c11f65dcc8",
   "metadata": {},
   "outputs": [
    {
     "name": "stdin",
     "output_type": "stream",
     "text": [
      "Ingrese el primer numero:  2\n",
      "Ingrese el segundo numero:  3\n"
     ]
    },
    {
     "name": "stdout",
     "output_type": "stream",
     "text": [
      "El valor de la multiplicacion es: 6\n"
     ]
    }
   ],
   "source": [
    "A = int(input(\"Ingrese el primer numero: \"))\n",
    "B = int(input(\"Ingrese el segundo numero: \"))\n",
    "print(f\"El valor de la multiplicacion es: {A*B}\")"
   ]
  },
  {
   "cell_type": "code",
   "execution_count": 20,
   "id": "a84b95e4-9cd5-49b9-bcbb-a97ea15c404d",
   "metadata": {},
   "outputs": [
    {
     "data": {
      "text/plain": [
       "bool"
      ]
     },
     "execution_count": 20,
     "metadata": {},
     "output_type": "execute_result"
    }
   ],
   "source": [
    "flag=True\n",
    "type(flag)"
   ]
  },
  {
   "cell_type": "code",
   "execution_count": 22,
   "id": "ebbe42fb-3d03-4216-b5b2-bae9ccb4e6e6",
   "metadata": {},
   "outputs": [
    {
     "name": "stdout",
     "output_type": "stream",
     "text": [
      "False\n"
     ]
    }
   ],
   "source": [
    "print(1>3)"
   ]
  },
  {
   "cell_type": "code",
   "execution_count": null,
   "id": "c8453eb0-3e6a-4753-822c-a584e51484e1",
   "metadata": {},
   "outputs": [],
   "source": []
  }
 ],
 "metadata": {
  "kernelspec": {
   "display_name": "Python 3 (ipykernel)",
   "language": "python",
   "name": "python3"
  },
  "language_info": {
   "codemirror_mode": {
    "name": "ipython",
    "version": 3
   },
   "file_extension": ".py",
   "mimetype": "text/x-python",
   "name": "python",
   "nbconvert_exporter": "python",
   "pygments_lexer": "ipython3",
   "version": "3.10.16"
  }
 },
 "nbformat": 4,
 "nbformat_minor": 5
}
